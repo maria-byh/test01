{
  "nbformat": 4,
  "nbformat_minor": 0,
  "metadata": {
    "colab": {
      "name": "Test01.ipynb",
      "provenance": []
    },
    "kernelspec": {
      "name": "python3",
      "display_name": "Python 3"
    }
  },
  "cells": [
    {
      "cell_type": "markdown",
      "metadata": {
        "id": "WYm7ckZE57rl"
      },
      "source": [
        "## **General**\r\n",
        "1- What's the difference between a Machine Learning (ML) Model and a Machine Learning algorithm.\r\n",
        "\r\n",
        "2- Why we need to study Linear Algebra for ML?"
      ]
    },
    {
      "cell_type": "markdown",
      "metadata": {
        "id": "vmgZdLTrdnel"
      },
      "source": [
        "# Responses:\r\n",
        "1-a machine learning algorithm is run on data to creat a model.\r\n",
        "\r\n",
        "2-for understanding the ml algorithms and the best ways to organize the data."
      ]
    },
    {
      "cell_type": "markdown",
      "metadata": {
        "id": "SPBs8VixeD8G"
      },
      "source": [
        "**## Vectors:**\r\n",
        "\r\n",
        "**1- create a vector: **\r\n",
        "\r\n",
        "Our vector can be written as v=(2,1), but more formally we would use the following notation, in which the dimensional coordinate values for the vector are shown as a matrix:$$\\vec{v} = \\begin{bmatrix}2 \\\\ 1 \\end{bmatrix}$$"
      ]
    },
    {
      "cell_type": "code",
      "metadata": {
        "id": "pYlRp9O5gOcZ",
        "colab": {
          "base_uri": "https://localhost:8080/"
        },
        "outputId": "949ea0a1-34ac-4add-95c0-1c970c214c5e"
      },
      "source": [
        "import numpy as np\r\n",
        "#creating the vector v=(2,1) \r\n",
        "v = np.array([[2],[1]])\r\n",
        "\r\n",
        "print(v)"
      ],
      "execution_count": 2,
      "outputs": [
        {
          "output_type": "stream",
          "text": [
            "[[2]\n",
            " [1]]\n"
          ],
          "name": "stdout"
        }
      ]
    },
    {
      "cell_type": "markdown",
      "metadata": {
        "id": "I3HPxUfQgpp2"
      },
      "source": [
        "### **2-Calculating Magnitude**"
      ]
    },
    {
      "cell_type": "code",
      "metadata": {
        "id": "mIXSLO7dhGzp",
        "colab": {
          "base_uri": "https://localhost:8080/"
        },
        "outputId": "a3b93678-58ee-4140-b9fb-f4e351d2b974"
      },
      "source": [
        "import math\r\n",
        "#calculating the magnitude m=(1+2)^½ \r\n",
        "m = np.linalg.norm(v)\r\n",
        "\r\n",
        "print(m)\r\n"
      ],
      "execution_count": 4,
      "outputs": [
        {
          "output_type": "stream",
          "text": [
            "2.23606797749979\n"
          ],
          "name": "stdout"
        }
      ]
    },
    {
      "cell_type": "markdown",
      "metadata": {
        "id": "7jBRtTMdh-0H"
      },
      "source": [
        "\r\n",
        "**3- Vector Addition:**\r\n",
        "So far, we've worked with one vector at a time. What happens when you need to add two vectors.\r\n",
        "\r\n",
        "Let's take a look at an example, we already have a vector named v, as defined here:$$\\vec{v} = \\begin{bmatrix}2 \\\\ 1 \\end{bmatrix}$$Now let's create a second vector, and called s like this:$$\\vec{s} = \\begin{bmatrix}-3 \\\\ 2 \\end{bmatrix}$$\r\n",
        "\r\n",
        "And we have :$$\\vec{z} = \\vec{v}+\\vec{s}$$"
      ]
    },
    {
      "cell_type": "code",
      "metadata": {
        "id": "cyPCRCXZie9e",
        "colab": {
          "base_uri": "https://localhost:8080/"
        },
        "outputId": "1741b995-7770-45fc-ffc3-595b83a9110f"
      },
      "source": [
        "\r\n",
        "import math\r\n",
        "import numpy as np\r\n",
        "\r\n",
        "v = np.array([[2],[1]]) \r\n",
        "s = np.array([[-3],[2]])\r\n",
        "z = s+v\r\n",
        "print (z)"
      ],
      "execution_count": 5,
      "outputs": [
        {
          "output_type": "stream",
          "text": [
            "[[-1]\n",
            " [ 3]]\n"
          ],
          "name": "stdout"
        }
      ]
    },
    {
      "cell_type": "markdown",
      "metadata": {
        "id": "_CjY0iqijB5N"
      },
      "source": [
        "\r\n",
        "4- Dot Product Multiplication\r\n",
        "\r\n",
        "\r\n",
        "$$ \\vec{d}=\\vec{v} \\cdot \\vec{s} = (v_{1} \\cdot s_{1}) + (v_{2} \\cdot s_{2}) ... + \\; (v_{n} \\cdot s_{n})$$"
      ]
    },
    {
      "cell_type": "code",
      "metadata": {
        "id": "9xSZu9zWjpgr",
        "colab": {
          "base_uri": "https://localhost:8080/",
          "height": 129
        },
        "outputId": "429f4689-ad33-4352-8426-5b24a4a91f81"
      },
      "source": [
        "\r\n",
        "import math\r\n",
        "import numpy as np\r\n",
        "\r\n",
        "v = np.array([[2],[1]])\r\n",
        "s = np.array([[-3],[2]])\r\n",
        "d = .multiply(v,s)\r\n",
        "print (d)"
      ],
      "execution_count": 12,
      "outputs": [
        {
          "output_type": "error",
          "ename": "SyntaxError",
          "evalue": "ignored",
          "traceback": [
            "\u001b[0;36m  File \u001b[0;32m\"<ipython-input-12-b42b91f167cd>\"\u001b[0;36m, line \u001b[0;32m7\u001b[0m\n\u001b[0;31m    d = .multiply(v,s)\u001b[0m\n\u001b[0m        ^\u001b[0m\n\u001b[0;31mSyntaxError\u001b[0m\u001b[0;31m:\u001b[0m invalid syntax\n"
          ]
        }
      ]
    },
    {
      "cell_type": "markdown",
      "metadata": {
        "id": "PgXPtvE5j79t"
      },
      "source": [
        "## **Matrices:**\r\n",
        "\r\n",
        "# 1- create a Matrice:\r\n",
        "A matrix arranges numbers into rows and columns, like this:\r\n",
        "\r\n",
        "$$A = \\begin{bmatrix}\r\n",
        "  1 &amp; 2 &amp; 3 \\\\\r\n",
        "  4 &amp; 5 &amp; 6\r\n",
        " \\end{bmatrix}\r\n",
        "$$"
      ]
    },
    {
      "cell_type": "code",
      "metadata": {
        "id": "uZEPEBzolG7d"
      },
      "source": [
        "import numpy as np\r\n",
        "\r\n",
        "A = \r\n",
        "print (A)"
      ],
      "execution_count": null,
      "outputs": []
    },
    {
      "cell_type": "markdown",
      "metadata": {
        "id": "Ux8mSUHblecq"
      },
      "source": [
        "\r\n",
        "#2- Matrix Transposition\r\n",
        "You can transpose a matrix, that is switch the orientation of its rows and columns. You indicate this with a superscript T, like this:\r\n",
        "\r\n",
        "$$\\begin{bmatrix}1 &amp; 2 &amp; 3 \\\\4 &amp; 5 &amp; 6\\end{bmatrix}^{T} = \\begin{bmatrix}1 &amp; 42 &amp; 53 &amp; 6 \\end{bmatrix}$$"
      ]
    },
    {
      "cell_type": "markdown",
      "metadata": {
        "id": "o1DWED1nl4-Z"
      },
      "source": [
        "a- How can we do it mathematically? \r\n",
        "\r\n",
        "..........................................\r\n",
        "\r\n"
      ]
    },
    {
      "cell_type": "markdown",
      "metadata": {
        "id": "dNQOyc-jmMNg"
      },
      "source": [
        "b- with Python: "
      ]
    },
    {
      "cell_type": "code",
      "metadata": {
        "colab": {
          "base_uri": "https://localhost:8080/",
          "height": 129
        },
        "id": "wFusE1HfmCO_",
        "outputId": "7a5af01c-eea7-4b4d-ba06-4d7f1512acc0"
      },
      "source": [
        "import numpy as np\r\n",
        "\r\n",
        "A=\r\n"
      ],
      "execution_count": null,
      "outputs": [
        {
          "output_type": "error",
          "ename": "SyntaxError",
          "evalue": "ignored",
          "traceback": [
            "\u001b[0;36m  File \u001b[0;32m\"<ipython-input-4-0d7173d15ceb>\"\u001b[0;36m, line \u001b[0;32m3\u001b[0m\n\u001b[0;31m    A=\u001b[0m\n\u001b[0m      ^\u001b[0m\n\u001b[0;31mSyntaxError\u001b[0m\u001b[0;31m:\u001b[0m invalid syntax\n"
          ]
        }
      ]
    },
    {
      "cell_type": "markdown",
      "metadata": {
        "id": "tbRgbgdlmy0Y"
      },
      "source": [
        "## **Eigendecomposition:**\r\n",
        "\r\n",
        "So we've learned a little about eigenvalues and eigenvectors; but you may be wondering what use they are. Well, one use for them is to help decompose transformation matrices.\r\n",
        "\r\n",
        "1- How can we decompose a matrix? ( Rules and steps)\r\n",
        "2- (Bonus) Do it in python with your exampls."
      ]
    },
    {
      "cell_type": "markdown",
      "metadata": {
        "id": "zFFBuyE8o0Pu"
      },
      "source": [
        "1-........................................"
      ]
    },
    {
      "cell_type": "code",
      "metadata": {
        "id": "UStyMfAao4DB"
      },
      "source": [
        "#2 bonus\r\n",
        "import numpy as np"
      ],
      "execution_count": null,
      "outputs": []
    }
  ]
}